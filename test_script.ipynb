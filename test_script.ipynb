{
 "cells": [
  {
   "cell_type": "code",
   "execution_count": null,
   "metadata": {},
   "outputs": [],
   "source": [
    "import os\n",
    "import asyncio\n",
    "import random\n",
    "import logging\n",
    "import json\n",
    "\n",
    "from azure.iot.device.aio import IoTHubDeviceClient\n",
    "from azure.iot.device.aio import ProvisioningDeviceClient\n",
    "from azure.iot.device import MethodResponse\n",
    "from datetime import timedelta, datetime\n",
    "import pnp_helper\n",
    "\n",
    "model_id = \"dtmi:com:example:TemperatureController;2\""
   ]
  },
  {
   "cell_type": "code",
   "execution_count": null,
   "metadata": {},
   "outputs": [],
   "source": [
    "conn_str = os.getenv(\"IOTHUB_DEVICE_CONNECTION_STRING\")\n",
    "print(\"Connecting using Connection String \" + conn_str)\n",
    "device_client = IoTHubDeviceClient.create_from_connection_string(\n",
    "  conn_str, product_info=model_id\n",
    ")\n",
    "device_client.connect()"
   ]
  },
  {
   "cell_type": "code",
   "execution_count": null,
   "metadata": {},
   "outputs": [],
   "source": [
    "    async def send_telemetry():\n",
    "        # will we also use async?\n",
    "        print(\"Sending telemetry from various components\")\n",
    "\n",
    "        while True:\n",
    "            curr_temp_ext = random.randrange(10, 50)\n",
    "            THERMOSTAT_1.record(curr_temp_ext)\n",
    "\n",
    "            temperature_msg1 = {\"temperature\": curr_temp_ext}\n",
    "            await send_telemetry_from_temp_controller(\n",
    "                device_client, temperature_msg1, thermostat_1_component_name\n",
    "            )\n",
    "\n",
    "            curr_temp_int = random.randrange(10, 50)  # Current temperature in Celsius\n",
    "            THERMOSTAT_2.record(curr_temp_int)\n",
    "\n",
    "            temperature_msg2 = {\"temperature\": curr_temp_int}\n",
    "\n",
    "            await send_telemetry_from_temp_controller(\n",
    "                device_client, temperature_msg2, thermostat_2_component_name\n",
    "            )\n",
    "\n",
    "            workingset_msg3 = {\"workingSet\": random.randrange(1, 100)}\n",
    "            await send_telemetry_from_temp_controller(device_client, workingset_msg3)\n",
    "\n",
    "    send_telemetry_task = asyncio.ensure_future(send_telemetry())"
   ]
  }
 ],
 "metadata": {
  "interpreter": {
   "hash": "f27d2251d8fa66c47278e261c9f644d45468d8ebc7c2a3601300cd65ada2814e"
  },
  "kernelspec": {
   "display_name": "Python 3.8.12",
   "language": "python",
   "name": "python3"
  },
  "language_info": {
   "codemirror_mode": {
    "name": "ipython",
    "version": 3
   },
   "file_extension": ".py",
   "mimetype": "text/x-python",
   "name": "python",
   "nbconvert_exporter": "python",
   "pygments_lexer": "ipython3",
   "version": "3.8.12"
  },
  "orig_nbformat": 4
 },
 "nbformat": 4,
 "nbformat_minor": 2
}
