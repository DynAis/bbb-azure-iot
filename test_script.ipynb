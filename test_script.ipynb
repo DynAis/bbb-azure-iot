{
 "cells": [
  {
   "cell_type": "code",
   "execution_count": 1,
   "metadata": {},
   "outputs": [],
   "source": [
    "from opcua import Client\n",
    "from opcua import ua\n",
    "import time"
   ]
  },
  {
   "cell_type": "code",
   "execution_count": 19,
   "metadata": {},
   "outputs": [],
   "source": [
    "# 初始化客户端\n",
    "url = \"opc.tcp://opcua.demo-this.com:51210/UA/SampleServer\"\n",
    "client = Client(url)\n",
    "client.connect()"
   ]
  },
  {
   "cell_type": "code",
   "execution_count": 23,
   "metadata": {},
   "outputs": [
    {
     "name": "stdout",
     "output_type": "stream",
     "text": [
      "121\n",
      "VariantType.Byte\n"
     ]
    },
    {
     "name": "stderr",
     "output_type": "stream",
     "text": [
      "Exception in thread Thread-5:\n",
      "Traceback (most recent call last):\n",
      "  File \"D:\\Anaconda3\\envs\\bbb-azure-iot\\lib\\threading.py\", line 932, in _bootstrap_inner\n",
      "    self.run()\n",
      "  File \"D:\\Anaconda3\\envs\\bbb-azure-iot\\lib\\site-packages\\opcua\\client\\client.py\", line 66, in run\n",
      "    self.client.open_secure_channel(renew=True)\n",
      "  File \"D:\\Anaconda3\\envs\\bbb-azure-iot\\lib\\site-packages\\opcua\\client\\client.py\", line 335, in open_secure_channel\n",
      "    result = self.uaclient.open_secure_channel(params)\n",
      "  File \"D:\\Anaconda3\\envs\\bbb-azure-iot\\lib\\site-packages\\opcua\\client\\ua_client.py\", line 275, in open_secure_channel\n",
      "    return self._uasocket.open_secure_channel(params)\n",
      "  File \"D:\\Anaconda3\\envs\\bbb-azure-iot\\lib\\site-packages\\opcua\\client\\ua_client.py\", line 207, in open_secure_channel\n",
      "    self._send_request(request, message_type=ua.MessageType.SecureOpen, callback=clb)\n",
      "  File \"D:\\Anaconda3\\envs\\bbb-azure-iot\\lib\\site-packages\\opcua\\client\\ua_client.py\", line 72, in _send_request\n",
      "    self._socket.write(msg)\n",
      "  File \"D:\\Anaconda3\\envs\\bbb-azure-iot\\lib\\site-packages\\opcua\\common\\utils.py\", line 118, in write\n",
      "    self.socket.sendall(data)\n",
      "ConnectionResetError: [WinError 10054] 远程主机强迫关闭了一个现有的连接。\n"
     ]
    }
   ],
   "source": [
    "# 数据获取\n",
    "nodeId = \"ns=2; i=10218\"\n",
    "node = client.get_node(nodeId)\n",
    "# node_Value = node.get_value() #简单获取数据\n",
    "node_Value = node.get_data_value() #具有更丰富的信息\n",
    "print(node_Value.Value.Value)\n",
    "print(node_Value.Value.VariantType)"
   ]
  },
  {
   "cell_type": "code",
   "execution_count": 4,
   "metadata": {},
   "outputs": [],
   "source": [
    "# 数据设置\n",
    "nodeId = \"ns=2; i=10218\"\n",
    "node = client.get_node(nodeId)\n",
    "# node.set_value(249,node.get_data_type_as_variant_type()) #和下面的效果一样, 但是不需要提前知道数据类型\n",
    "node.set_value(ua.Variant(23, ua.VariantType.Byte))"
   ]
  },
  {
   "cell_type": "code",
   "execution_count": 5,
   "metadata": {},
   "outputs": [],
   "source": [
    "# 订阅数据-这里是新开了线程?\n",
    "class SubHandler(object):\n",
    "\n",
    "    \"\"\"\n",
    "    Subscription Handler. To receive events from server for a subscription\n",
    "    data_change and event methods are called directly from receiving thread.\n",
    "    Do not do expensive, slow or network operation there. Create another \n",
    "    thread if you need to do such a thing\n",
    "    不要在这里写耗时操作\n",
    "    \"\"\"\n",
    "\n",
    "    def datachange_notification(self, node, val, data):\n",
    "        time.sleep(3)\n",
    "        print(\"Python: New data change event\", node, val)\n",
    "\n",
    "    def event_notification(self, event):\n",
    "        print(\"Python: New event\", event)\n",
    "\n",
    "nodeId = \"ns=2; i=11014\"\n",
    "node = client.get_node(nodeId)\n",
    "handler = SubHandler()\n",
    "sub = client.create_subscription(500, handler)\n",
    "# handle = sub.subscribe_data_change(node) #解除注释后, 就可以监听到数据变化\n",
    "time.sleep(0.1)"
   ]
  },
  {
   "cell_type": "code",
   "execution_count": 6,
   "metadata": {},
   "outputs": [],
   "source": [
    "# nodeId = \"ns=2; i=10756\"\n",
    "# node = client.get_node(nodeId)\n",
    "# res = node.call_method()\n",
    "# print(\"method result is: \", res)"
   ]
  },
  {
   "cell_type": "code",
   "execution_count": 7,
   "metadata": {},
   "outputs": [],
   "source": [
    "# client.disconnect()"
   ]
  }
 ],
 "metadata": {
  "interpreter": {
   "hash": "f27d2251d8fa66c47278e261c9f644d45468d8ebc7c2a3601300cd65ada2814e"
  },
  "kernelspec": {
   "display_name": "Python 3.8.12",
   "language": "python",
   "name": "python3"
  },
  "language_info": {
   "codemirror_mode": {
    "name": "ipython",
    "version": 3
   },
   "file_extension": ".py",
   "mimetype": "text/x-python",
   "name": "python",
   "nbconvert_exporter": "python",
   "pygments_lexer": "ipython3",
   "version": "3.8.12"
  },
  "orig_nbformat": 4
 },
 "nbformat": 4,
 "nbformat_minor": 2
}
